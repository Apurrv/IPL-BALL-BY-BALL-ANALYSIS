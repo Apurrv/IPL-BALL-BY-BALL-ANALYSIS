{
 "cells": [
  {
   "cell_type": "code",
   "execution_count": 1,
   "metadata": {},
   "outputs": [
    {
     "name": "stdout",
     "output_type": "stream",
     "text": [
      "cuda_malloc_async\n"
     ]
    }
   ],
   "source": [
    "import os\n",
    "os.environ['TF_GPU_ALLOCATOR'] = 'cuda_malloc_async'\n",
    "print(os.getenv('TF_GPU_ALLOCATOR'))"
   ]
  },
  {
   "cell_type": "code",
   "execution_count": 2,
   "metadata": {},
   "outputs": [],
   "source": [
    "import findspark\n",
    "findspark.init()"
   ]
  },
  {
   "cell_type": "code",
   "execution_count": 3,
   "metadata": {},
   "outputs": [
    {
     "name": "stderr",
     "output_type": "stream",
     "text": [
      "C:\\Users\\apurv\\anaconda3\\lib\\site-packages\\pyspark\\sql\\context.py:77: FutureWarning: Deprecated in 3.0.0. Use SparkSession.builder.getOrCreate() instead.\n",
      "  warnings.warn(\n"
     ]
    }
   ],
   "source": [
    "from pyspark import SparkContext\n",
    "from pyspark.sql import SQLContext\n",
    "import numpy as np\n",
    "from pyspark.sql.functions import monotonically_increasing_id, row_number\n",
    "from pyspark.sql import Window\n",
    "\n",
    "sc= SparkContext()\n",
    "sqlContext = SQLContext(sc)"
   ]
  },
  {
   "cell_type": "code",
   "execution_count": 4,
   "metadata": {},
   "outputs": [
    {
     "name": "stdout",
     "output_type": "stream",
     "text": [
      "+---+--------+------+--------+----+----------+-----------+---------+------------+------+-----+----------+-----------+----------+--------+-------------+----------------+-------+-------------+----+----------+---------------+-------------+-------------+----------+--------------------+----+------+--------+----------+\n",
      "|_c0|match id|inning|delivery|over|   batsman|non striker|   bowler|runs off bat|extras|total|extra kind|wicket kind|player out|fielders|        team1|           team2|outcome|       winner|  by|win amount|player of match|  toss winner|toss decision|match type|               venue|city|gender| umpire1|   umpire2|\n",
      "+---+--------+------+--------+----+----------+-----------+---------+------------+------+-----+----------+-----------+----------+--------+-------------+----------------+-------+-------------+----+----------+---------------+-------------+-------------+----------+--------------------+----+------+--------+----------+\n",
      "|  0|  598067|     1|     0.1| 1.0|RV Uthappa|   AJ Finch|IK Pathan|           0|     0|    0|      null|       null|      null|    null|Pune Warriors|Delhi Daredevils| normal|Pune Warriors|runs|        38|      LJ Wright|Pune Warriors|          bat|       T20|Subrata Roy Sahar...|Pune|  male|NJ Llong|SJA Taufel|\n",
      "|  1|  598067|     1|     0.2| 1.0|RV Uthappa|   AJ Finch|IK Pathan|           2|     0|    2|      null|       null|      null|    null|Pune Warriors|Delhi Daredevils| normal|Pune Warriors|runs|        38|      LJ Wright|Pune Warriors|          bat|       T20|Subrata Roy Sahar...|Pune|  male|NJ Llong|SJA Taufel|\n",
      "|  2|  598067|     1|     0.3| 1.0|RV Uthappa|   AJ Finch|IK Pathan|           4|     0|    6|      null|       null|      null|    null|Pune Warriors|Delhi Daredevils| normal|Pune Warriors|runs|        38|      LJ Wright|Pune Warriors|          bat|       T20|Subrata Roy Sahar...|Pune|  male|NJ Llong|SJA Taufel|\n",
      "|  3|  598067|     1|     0.4| 1.0|RV Uthappa|   AJ Finch|IK Pathan|           0|     0|    6|      null|       null|      null|    null|Pune Warriors|Delhi Daredevils| normal|Pune Warriors|runs|        38|      LJ Wright|Pune Warriors|          bat|       T20|Subrata Roy Sahar...|Pune|  male|NJ Llong|SJA Taufel|\n",
      "|  4|  598067|     1|     0.5| 1.0|RV Uthappa|   AJ Finch|IK Pathan|           1|     0|    7|      null|       null|      null|    null|Pune Warriors|Delhi Daredevils| normal|Pune Warriors|runs|        38|      LJ Wright|Pune Warriors|          bat|       T20|Subrata Roy Sahar...|Pune|  male|NJ Llong|SJA Taufel|\n",
      "|  5|  598067|     1|     0.6| 1.0|  AJ Finch| RV Uthappa|IK Pathan|           4|     0|   11|      null|       null|      null|    null|Pune Warriors|Delhi Daredevils| normal|Pune Warriors|runs|        38|      LJ Wright|Pune Warriors|          bat|       T20|Subrata Roy Sahar...|Pune|  male|NJ Llong|SJA Taufel|\n",
      "|  6|  598067|     1|     1.1| 2.0|RV Uthappa|   AJ Finch| M Morkel|           0|     0|   11|      null|       null|      null|    null|Pune Warriors|Delhi Daredevils| normal|Pune Warriors|runs|        38|      LJ Wright|Pune Warriors|          bat|       T20|Subrata Roy Sahar...|Pune|  male|NJ Llong|SJA Taufel|\n",
      "|  7|  598067|     1|     1.2| 2.0|RV Uthappa|   AJ Finch| M Morkel|           3|     0|   14|      null|       null|      null|    null|Pune Warriors|Delhi Daredevils| normal|Pune Warriors|runs|        38|      LJ Wright|Pune Warriors|          bat|       T20|Subrata Roy Sahar...|Pune|  male|NJ Llong|SJA Taufel|\n",
      "|  8|  598067|     1|     1.3| 2.0|  AJ Finch| RV Uthappa| M Morkel|           1|     0|   15|      null|       null|      null|    null|Pune Warriors|Delhi Daredevils| normal|Pune Warriors|runs|        38|      LJ Wright|Pune Warriors|          bat|       T20|Subrata Roy Sahar...|Pune|  male|NJ Llong|SJA Taufel|\n",
      "|  9|  598067|     1|     1.4| 2.0|RV Uthappa|   AJ Finch| M Morkel|           1|     0|   16|      null|       null|      null|    null|Pune Warriors|Delhi Daredevils| normal|Pune Warriors|runs|        38|      LJ Wright|Pune Warriors|          bat|       T20|Subrata Roy Sahar...|Pune|  male|NJ Llong|SJA Taufel|\n",
      "| 10|  598067|     1|     1.5| 2.0|  AJ Finch| RV Uthappa| M Morkel|           0|     0|   16|      null|       null|      null|    null|Pune Warriors|Delhi Daredevils| normal|Pune Warriors|runs|        38|      LJ Wright|Pune Warriors|          bat|       T20|Subrata Roy Sahar...|Pune|  male|NJ Llong|SJA Taufel|\n",
      "| 11|  598067|     1|     1.6| 2.0|  AJ Finch| RV Uthappa| M Morkel|           0|     0|   16|      null|       null|      null|    null|Pune Warriors|Delhi Daredevils| normal|Pune Warriors|runs|        38|      LJ Wright|Pune Warriors|          bat|       T20|Subrata Roy Sahar...|Pune|  male|NJ Llong|SJA Taufel|\n",
      "| 12|  598067|     1|     2.1| 3.0|RV Uthappa|   AJ Finch|   S Kaul|           1|     0|   17|      null|       null|      null|    null|Pune Warriors|Delhi Daredevils| normal|Pune Warriors|runs|        38|      LJ Wright|Pune Warriors|          bat|       T20|Subrata Roy Sahar...|Pune|  male|NJ Llong|SJA Taufel|\n",
      "| 13|  598067|     1|     2.2| 3.0|  AJ Finch| RV Uthappa|   S Kaul|           0|     0|   17|      null|       null|      null|    null|Pune Warriors|Delhi Daredevils| normal|Pune Warriors|runs|        38|      LJ Wright|Pune Warriors|          bat|       T20|Subrata Roy Sahar...|Pune|  male|NJ Llong|SJA Taufel|\n",
      "| 14|  598067|     1|     2.3| 3.0|  AJ Finch| RV Uthappa|   S Kaul|           1|     0|   18|      null|       null|      null|    null|Pune Warriors|Delhi Daredevils| normal|Pune Warriors|runs|        38|      LJ Wright|Pune Warriors|          bat|       T20|Subrata Roy Sahar...|Pune|  male|NJ Llong|SJA Taufel|\n",
      "| 15|  598067|     1|     2.4| 3.0|RV Uthappa|   AJ Finch|   S Kaul|           1|     0|   19|      null|       null|      null|    null|Pune Warriors|Delhi Daredevils| normal|Pune Warriors|runs|        38|      LJ Wright|Pune Warriors|          bat|       T20|Subrata Roy Sahar...|Pune|  male|NJ Llong|SJA Taufel|\n",
      "| 16|  598067|     1|     2.5| 3.0|  AJ Finch| RV Uthappa|   S Kaul|           6|     0|   25|      null|       null|      null|    null|Pune Warriors|Delhi Daredevils| normal|Pune Warriors|runs|        38|      LJ Wright|Pune Warriors|          bat|       T20|Subrata Roy Sahar...|Pune|  male|NJ Llong|SJA Taufel|\n",
      "| 17|  598067|     1|     2.6| 3.0|  AJ Finch| RV Uthappa|   S Kaul|           0|     0|   25|      null|       null|      null|    null|Pune Warriors|Delhi Daredevils| normal|Pune Warriors|runs|        38|      LJ Wright|Pune Warriors|          bat|       T20|Subrata Roy Sahar...|Pune|  male|NJ Llong|SJA Taufel|\n",
      "| 18|  598067|     1|     3.1| 4.0|RV Uthappa|   AJ Finch| M Morkel|           4|     0|   29|      null|       null|      null|    null|Pune Warriors|Delhi Daredevils| normal|Pune Warriors|runs|        38|      LJ Wright|Pune Warriors|          bat|       T20|Subrata Roy Sahar...|Pune|  male|NJ Llong|SJA Taufel|\n",
      "| 19|  598067|     1|     3.2| 4.0|RV Uthappa|   AJ Finch| M Morkel|           1|     0|   30|      null|       null|      null|    null|Pune Warriors|Delhi Daredevils| normal|Pune Warriors|runs|        38|      LJ Wright|Pune Warriors|          bat|       T20|Subrata Roy Sahar...|Pune|  male|NJ Llong|SJA Taufel|\n",
      "+---+--------+------+--------+----+----------+-----------+---------+------------+------+-----+----------+-----------+----------+--------+-------------+----------------+-------+-------------+----+----------+---------------+-------------+-------------+----------+--------------------+----+------+--------+----------+\n",
      "only showing top 20 rows\n",
      "\n"
     ]
    }
   ],
   "source": [
    "df = sqlContext.read.load(r\"C:\\Users\\apurv\\Downloads\\ipl\\ipldata.csv\", \n",
    "                      format='com.databricks.spark.csv', \n",
    "                      header='true', \n",
    "                      inferSchema='true')\n",
    "df.show()"
   ]
  },
  {
   "cell_type": "code",
   "execution_count": 5,
   "metadata": {},
   "outputs": [
    {
     "name": "stdout",
     "output_type": "stream",
     "text": [
      "root\n",
      " |-- _c0: integer (nullable = true)\n",
      " |-- match id: integer (nullable = true)\n",
      " |-- inning: integer (nullable = true)\n",
      " |-- delivery: double (nullable = true)\n",
      " |-- over: double (nullable = true)\n",
      " |-- batsman: string (nullable = true)\n",
      " |-- non striker: string (nullable = true)\n",
      " |-- bowler: string (nullable = true)\n",
      " |-- runs off bat: integer (nullable = true)\n",
      " |-- extras: integer (nullable = true)\n",
      " |-- total: integer (nullable = true)\n",
      " |-- extra kind: string (nullable = true)\n",
      " |-- wicket kind: string (nullable = true)\n",
      " |-- player out: string (nullable = true)\n",
      " |-- fielders: string (nullable = true)\n",
      " |-- team1: string (nullable = true)\n",
      " |-- team2: string (nullable = true)\n",
      " |-- outcome: string (nullable = true)\n",
      " |-- winner: string (nullable = true)\n",
      " |-- by: string (nullable = true)\n",
      " |-- win amount: integer (nullable = true)\n",
      " |-- player of match: string (nullable = true)\n",
      " |-- toss winner: string (nullable = true)\n",
      " |-- toss decision: string (nullable = true)\n",
      " |-- match type: string (nullable = true)\n",
      " |-- venue: string (nullable = true)\n",
      " |-- city: string (nullable = true)\n",
      " |-- gender: string (nullable = true)\n",
      " |-- umpire1: string (nullable = true)\n",
      " |-- umpire2: string (nullable = true)\n",
      "\n"
     ]
    }
   ],
   "source": [
    "df.cache()\n",
    "df.printSchema()"
   ]
  },
  {
   "cell_type": "markdown",
   "metadata": {},
   "source": [
    "# Batsman prediction"
   ]
  },
  {
   "cell_type": "code",
   "execution_count": 6,
   "metadata": {},
   "outputs": [
    {
     "name": "stdout",
     "output_type": "stream",
     "text": [
      "Enter the batsman name: RV Uthappa\n",
      "+---+--------+------+--------+----+----------+-----------+---------+------------+------+-----+----------+-----------+----------+--------+-------------+----------------+-------+-------------+----+----------+---------------+-------------+-------------+----------+--------------------+----+------+--------+----------+\n",
      "|_c0|match id|inning|delivery|over|   batsman|non striker|   bowler|runs off bat|extras|total|extra kind|wicket kind|player out|fielders|        team1|           team2|outcome|       winner|  by|win amount|player of match|  toss winner|toss decision|match type|               venue|city|gender| umpire1|   umpire2|\n",
      "+---+--------+------+--------+----+----------+-----------+---------+------------+------+-----+----------+-----------+----------+--------+-------------+----------------+-------+-------------+----+----------+---------------+-------------+-------------+----------+--------------------+----+------+--------+----------+\n",
      "|  0|  598067|     1|     0.1| 1.0|RV Uthappa|   AJ Finch|IK Pathan|           0|     0|    0|      null|       null|      null|    null|Pune Warriors|Delhi Daredevils| normal|Pune Warriors|runs|        38|      LJ Wright|Pune Warriors|          bat|       T20|Subrata Roy Sahar...|Pune|  male|NJ Llong|SJA Taufel|\n",
      "|  1|  598067|     1|     0.2| 1.0|RV Uthappa|   AJ Finch|IK Pathan|           2|     0|    2|      null|       null|      null|    null|Pune Warriors|Delhi Daredevils| normal|Pune Warriors|runs|        38|      LJ Wright|Pune Warriors|          bat|       T20|Subrata Roy Sahar...|Pune|  male|NJ Llong|SJA Taufel|\n",
      "|  2|  598067|     1|     0.3| 1.0|RV Uthappa|   AJ Finch|IK Pathan|           4|     0|    6|      null|       null|      null|    null|Pune Warriors|Delhi Daredevils| normal|Pune Warriors|runs|        38|      LJ Wright|Pune Warriors|          bat|       T20|Subrata Roy Sahar...|Pune|  male|NJ Llong|SJA Taufel|\n",
      "|  3|  598067|     1|     0.4| 1.0|RV Uthappa|   AJ Finch|IK Pathan|           0|     0|    6|      null|       null|      null|    null|Pune Warriors|Delhi Daredevils| normal|Pune Warriors|runs|        38|      LJ Wright|Pune Warriors|          bat|       T20|Subrata Roy Sahar...|Pune|  male|NJ Llong|SJA Taufel|\n",
      "|  4|  598067|     1|     0.5| 1.0|RV Uthappa|   AJ Finch|IK Pathan|           1|     0|    7|      null|       null|      null|    null|Pune Warriors|Delhi Daredevils| normal|Pune Warriors|runs|        38|      LJ Wright|Pune Warriors|          bat|       T20|Subrata Roy Sahar...|Pune|  male|NJ Llong|SJA Taufel|\n",
      "|  6|  598067|     1|     1.1| 2.0|RV Uthappa|   AJ Finch| M Morkel|           0|     0|   11|      null|       null|      null|    null|Pune Warriors|Delhi Daredevils| normal|Pune Warriors|runs|        38|      LJ Wright|Pune Warriors|          bat|       T20|Subrata Roy Sahar...|Pune|  male|NJ Llong|SJA Taufel|\n",
      "|  7|  598067|     1|     1.2| 2.0|RV Uthappa|   AJ Finch| M Morkel|           3|     0|   14|      null|       null|      null|    null|Pune Warriors|Delhi Daredevils| normal|Pune Warriors|runs|        38|      LJ Wright|Pune Warriors|          bat|       T20|Subrata Roy Sahar...|Pune|  male|NJ Llong|SJA Taufel|\n",
      "|  9|  598067|     1|     1.4| 2.0|RV Uthappa|   AJ Finch| M Morkel|           1|     0|   16|      null|       null|      null|    null|Pune Warriors|Delhi Daredevils| normal|Pune Warriors|runs|        38|      LJ Wright|Pune Warriors|          bat|       T20|Subrata Roy Sahar...|Pune|  male|NJ Llong|SJA Taufel|\n",
      "| 12|  598067|     1|     2.1| 3.0|RV Uthappa|   AJ Finch|   S Kaul|           1|     0|   17|      null|       null|      null|    null|Pune Warriors|Delhi Daredevils| normal|Pune Warriors|runs|        38|      LJ Wright|Pune Warriors|          bat|       T20|Subrata Roy Sahar...|Pune|  male|NJ Llong|SJA Taufel|\n",
      "| 15|  598067|     1|     2.4| 3.0|RV Uthappa|   AJ Finch|   S Kaul|           1|     0|   19|      null|       null|      null|    null|Pune Warriors|Delhi Daredevils| normal|Pune Warriors|runs|        38|      LJ Wright|Pune Warriors|          bat|       T20|Subrata Roy Sahar...|Pune|  male|NJ Llong|SJA Taufel|\n",
      "| 18|  598067|     1|     3.1| 4.0|RV Uthappa|   AJ Finch| M Morkel|           4|     0|   29|      null|       null|      null|    null|Pune Warriors|Delhi Daredevils| normal|Pune Warriors|runs|        38|      LJ Wright|Pune Warriors|          bat|       T20|Subrata Roy Sahar...|Pune|  male|NJ Llong|SJA Taufel|\n",
      "| 19|  598067|     1|     3.2| 4.0|RV Uthappa|   AJ Finch| M Morkel|           1|     0|   30|      null|       null|      null|    null|Pune Warriors|Delhi Daredevils| normal|Pune Warriors|runs|        38|      LJ Wright|Pune Warriors|          bat|       T20|Subrata Roy Sahar...|Pune|  male|NJ Llong|SJA Taufel|\n",
      "| 23|  598067|     1|     3.6| 4.0|RV Uthappa|   AJ Finch| M Morkel|           1|     0|   32|      null|       null|      null|    null|Pune Warriors|Delhi Daredevils| normal|Pune Warriors|runs|        38|      LJ Wright|Pune Warriors|          bat|       T20|Subrata Roy Sahar...|Pune|  male|NJ Llong|SJA Taufel|\n",
      "| 24|  598067|     1|     4.1| 5.0|RV Uthappa|   AJ Finch|   S Kaul|           0|     0|   32|      null|       null|      null|    null|Pune Warriors|Delhi Daredevils| normal|Pune Warriors|runs|        38|      LJ Wright|Pune Warriors|          bat|       T20|Subrata Roy Sahar...|Pune|  male|NJ Llong|SJA Taufel|\n",
      "| 25|  598067|     1|     4.2| 5.0|RV Uthappa|   AJ Finch|   S Kaul|           0|     0|   32|      null|       null|      null|    null|Pune Warriors|Delhi Daredevils| normal|Pune Warriors|runs|        38|      LJ Wright|Pune Warriors|          bat|       T20|Subrata Roy Sahar...|Pune|  male|NJ Llong|SJA Taufel|\n",
      "| 26|  598067|     1|     4.3| 5.0|RV Uthappa|   AJ Finch|   S Kaul|           0|     0|   32|      null|       null|      null|    null|Pune Warriors|Delhi Daredevils| normal|Pune Warriors|runs|        38|      LJ Wright|Pune Warriors|          bat|       T20|Subrata Roy Sahar...|Pune|  male|NJ Llong|SJA Taufel|\n",
      "| 27|  598067|     1|     4.4| 5.0|RV Uthappa|   AJ Finch|   S Kaul|           0|     0|   32|      null|       null|      null|    null|Pune Warriors|Delhi Daredevils| normal|Pune Warriors|runs|        38|      LJ Wright|Pune Warriors|          bat|       T20|Subrata Roy Sahar...|Pune|  male|NJ Llong|SJA Taufel|\n",
      "| 28|  598067|     1|     4.5| 5.0|RV Uthappa|   AJ Finch|   S Kaul|           4|     0|   36|      null|       null|      null|    null|Pune Warriors|Delhi Daredevils| normal|Pune Warriors|runs|        38|      LJ Wright|Pune Warriors|          bat|       T20|Subrata Roy Sahar...|Pune|  male|NJ Llong|SJA Taufel|\n",
      "| 29|  598067|     1|     4.6| 5.0|RV Uthappa|   AJ Finch|   S Kaul|           1|     0|   37|      null|       null|      null|    null|Pune Warriors|Delhi Daredevils| normal|Pune Warriors|runs|        38|      LJ Wright|Pune Warriors|          bat|       T20|Subrata Roy Sahar...|Pune|  male|NJ Llong|SJA Taufel|\n",
      "| 30|  598067|     1|     5.1| 6.0|RV Uthappa|   AJ Finch| UT Yadav|           0|     1|   38|     wides|       null|      null|    null|Pune Warriors|Delhi Daredevils| normal|Pune Warriors|runs|        38|      LJ Wright|Pune Warriors|          bat|       T20|Subrata Roy Sahar...|Pune|  male|NJ Llong|SJA Taufel|\n",
      "+---+--------+------+--------+----+----------+-----------+---------+------------+------+-----+----------+-----------+----------+--------+-------------+----------------+-------+-------------+----+----------+---------------+-------------+-------------+----------+--------------------+----+------+--------+----------+\n",
      "only showing top 20 rows\n",
      "\n"
     ]
    }
   ],
   "source": [
    "batsman=input(\"Enter the batsman name: \")\n",
    "df2=df.filter(df.batsman == batsman)\n",
    "df2.show()\n",
    "\n",
    "from pyspark.sql.functions import col\n",
    "main_col=df2.select(col(\"inning\"),col('over'),col('delivery'),col('runs off bat'),col('extras'),col('total'))"
   ]
  },
  {
   "cell_type": "code",
   "execution_count": 7,
   "metadata": {},
   "outputs": [
    {
     "name": "stdout",
     "output_type": "stream",
     "text": [
      "+--------+------------+\n",
      "|features|runs off bat|\n",
      "+--------+------------+\n",
      "|   [0.1]|           0|\n",
      "|   [0.2]|           2|\n",
      "|   [0.3]|           4|\n",
      "+--------+------------+\n",
      "only showing top 3 rows\n",
      "\n"
     ]
    }
   ],
   "source": [
    "from pyspark.ml.feature import VectorAssembler\n",
    "vectorAssembler = VectorAssembler(inputCols = ['delivery'], outputCol = 'features')\n",
    "vhouse_df = vectorAssembler.transform(main_col)\n",
    "vhouse_df = vhouse_df.select(['features', 'runs off bat'])\n",
    "vhouse_df.show(3)"
   ]
  },
  {
   "cell_type": "code",
   "execution_count": 8,
   "metadata": {},
   "outputs": [],
   "source": [
    "splits = vhouse_df.randomSplit([0.7, 0.3])\n",
    "train_df = splits[0]\n",
    "test_df = splits[1]"
   ]
  },
  {
   "cell_type": "markdown",
   "metadata": {},
   "source": [
    "Linear Regression"
   ]
  },
  {
   "cell_type": "code",
   "execution_count": 9,
   "metadata": {},
   "outputs": [
    {
     "name": "stdout",
     "output_type": "stream",
     "text": [
      "Coefficients: [0.0]\n",
      "Intercept: 1.2854420731707317\n",
      "RMSE: 1.659599\n",
      "r2: 0.000000\n",
      "numIterations: 0\n",
      "objectiveHistory: [0.4999999999999999]\n"
     ]
    },
    {
     "name": "stderr",
     "output_type": "stream",
     "text": [
      "C:\\Users\\apurv\\anaconda3\\lib\\site-packages\\pyspark\\sql\\context.py:125: FutureWarning: Deprecated in 3.0.0. Use SparkSession.builder.getOrCreate() instead.\n",
      "  warnings.warn(\n"
     ]
    },
    {
     "name": "stdout",
     "output_type": "stream",
     "text": [
      "+--------------------+\n",
      "|           residuals|\n",
      "+--------------------+\n",
      "| -1.2854420731707317|\n",
      "| -1.2854420731707317|\n",
      "| -1.2854420731707317|\n",
      "| -1.2854420731707317|\n",
      "| -1.2854420731707317|\n",
      "|  0.7145579268292683|\n",
      "| -1.2854420731707317|\n",
      "|-0.28544207317073167|\n",
      "|  2.7145579268292686|\n",
      "| -1.2854420731707317|\n",
      "|-0.28544207317073167|\n",
      "|  2.7145579268292686|\n",
      "|-0.28544207317073167|\n",
      "|  2.7145579268292686|\n",
      "| -1.2854420731707317|\n",
      "| -1.2854420731707317|\n",
      "| -1.2854420731707317|\n",
      "| -1.2854420731707317|\n",
      "|-0.28544207317073167|\n",
      "|  2.7145579268292686|\n",
      "+--------------------+\n",
      "only showing top 20 rows\n",
      "\n"
     ]
    }
   ],
   "source": [
    "from pyspark.ml.regression import LinearRegression\n",
    "lr = LinearRegression(featuresCol = 'features', labelCol='runs off bat', maxIter=10, regParam=0.3, elasticNetParam=0.8)\n",
    "lr_model = lr.fit(train_df)\n",
    "print(\"Coefficients: \" + str(lr_model.coefficients))\n",
    "print(\"Intercept: \" + str(lr_model.intercept))\n",
    "\n",
    "trainingSummary = lr_model.summary\n",
    "print(\"RMSE: %f\" % trainingSummary.rootMeanSquaredError)\n",
    "print(\"r2: %f\" % trainingSummary.r2)\n",
    "\n",
    "print(\"numIterations: %d\" % trainingSummary.totalIterations)\n",
    "print(\"objectiveHistory: %s\" % str(trainingSummary.objectiveHistory))\n",
    "trainingSummary.residuals.show()"
   ]
  },
  {
   "cell_type": "markdown",
   "metadata": {},
   "source": [
    "K Means Clustering"
   ]
  },
  {
   "cell_type": "code",
   "execution_count": 10,
   "metadata": {},
   "outputs": [
    {
     "name": "stdout",
     "output_type": "stream",
     "text": [
      "Silhouette with squared euclidean distance = 0.6982550765454786\n",
      "Cluster Centers: \n",
      "[1.08977099]\n",
      "[16.93630769]\n",
      "[13.20189573]\n",
      "[3.57800312]\n",
      "[8.12269044]\n",
      "[5.83938849]\n",
      "[10.53977273]\n"
     ]
    }
   ],
   "source": [
    "from pyspark.ml.evaluation import ClusteringEvaluator\n",
    "from pyspark.ml.clustering import KMeans\n",
    "# Trains a k-means model.\n",
    "kmeans = KMeans().setK(7).setSeed(1)\n",
    "model = kmeans.fit(vhouse_df)\n",
    "# Make predictions\n",
    "predictions = model.transform(vhouse_df)\n",
    "# Evaluate clustering by computing Silhouette score\n",
    "evaluator = ClusteringEvaluator()\n",
    "silhouette = evaluator.evaluate(predictions)\n",
    "print(\"Silhouette with squared euclidean distance = \" + str(silhouette))\n",
    "print(\"Cluster Centers: \")\n",
    "ctr=[]\n",
    "centers = model.clusterCenters()\n",
    "for center in centers:\n",
    "    ctr.append(center)\n",
    "    print(center)"
   ]
  },
  {
   "cell_type": "markdown",
   "metadata": {},
   "source": [
    "Logistic Regression"
   ]
  },
  {
   "cell_type": "code",
   "execution_count": 13,
   "metadata": {},
   "outputs": [
    {
     "name": "stdout",
     "output_type": "stream",
     "text": [
      "+--------+------------+\n",
      "|features|runs off bat|\n",
      "+--------+------------+\n",
      "|   [0.1]|           0|\n",
      "|   [0.2]|           2|\n",
      "|   [0.3]|           4|\n",
      "|   [0.4]|           0|\n",
      "|   [0.5]|           1|\n",
      "|   [1.1]|           0|\n",
      "|   [1.2]|           3|\n",
      "|   [1.4]|           1|\n",
      "|   [2.1]|           1|\n",
      "|   [2.4]|           1|\n",
      "|   [3.1]|           4|\n",
      "|   [3.2]|           1|\n",
      "|   [3.6]|           1|\n",
      "|   [4.1]|           0|\n",
      "|   [4.2]|           0|\n",
      "|   [4.3]|           0|\n",
      "|   [4.4]|           0|\n",
      "|   [4.5]|           4|\n",
      "|   [4.6]|           1|\n",
      "|   [5.1]|           0|\n",
      "+--------+------------+\n",
      "only showing top 20 rows\n",
      "\n"
     ]
    },
    {
     "data": {
      "text/plain": [
       "LogisticRegression_dfa2bcf7cace"
      ]
     },
     "execution_count": 13,
     "metadata": {},
     "output_type": "execute_result"
    }
   ],
   "source": [
    "from pyspark.sql import Row\n",
    "from pyspark.ml.classification import LogisticRegression\n",
    "c = LogisticRegression(weightCol=\"delivery\")\n",
    "\n",
    "from pyspark.sql import Row\n",
    "from pyspark.ml.linalg import Vectors\n",
    "b = vhouse_df\n",
    "b.show()\n",
    "\n",
    "c.setRegParam(0.01)\n",
    "c.getRegParam()\n",
    "c.setMaxIter(10)\n",
    "c.getMaxIter()\n",
    "c.setFeaturesCol(\"features\")"
   ]
  },
  {
   "cell_type": "markdown",
   "metadata": {},
   "source": [
    "# Bowler prediction"
   ]
  },
  {
   "cell_type": "code",
   "execution_count": 14,
   "metadata": {},
   "outputs": [
    {
     "name": "stdout",
     "output_type": "stream",
     "text": [
      "Enter the bowler name: S Kaul\n",
      "+-----+--------+------+--------+----+-------+--------------+-----------------+------------+------+-----+----------+-----------+----------+---------+-------------------+--------------------+-------+--------------------+-------+----------+---------------+--------------------+-------------+----------+--------------------+---------+------+-------------+-----------+\n",
      "|  _c0|match id|inning|delivery|over|batsman|   non striker|           bowler|runs off bat|extras|total|extra kind|wicket kind|player out| fielders|              team1|               team2|outcome|              winner|     by|win amount|player of match|         toss winner|toss decision|match type|               venue|     city|gender|      umpire1|    umpire2|\n",
      "+-----+--------+------+--------+----+-------+--------------+-----------------+------------+------+-----+----------+-----------+----------+---------+-------------------+--------------------+-------+--------------------+-------+----------+---------------+--------------------+-------------+----------+--------------------+---------+------+-------------+-----------+\n",
      "| 6604| 1254109|     1|    18.4|19.0| S Kaul|       B Kumar|      Shivam Mavi|           0|     0|  104|      null|       null|      null|     null|Sunrisers Hyderabad|Kolkata Knight Ri...| normal|Kolkata Knight Ri...|wickets|         6|   Shubman Gill| Sunrisers Hyderabad|          bat|       T20|Dubai Internation...|    Dubai|  male|J Madanagopal|   MA Gough|\n",
      "| 6605| 1254109|     1|    18.5|19.0| S Kaul|       B Kumar|      Shivam Mavi|           1|     0|  105|      null|       null|      null|     null|Sunrisers Hyderabad|Kolkata Knight Ri...| normal|Kolkata Knight Ri...|wickets|         6|   Shubman Gill| Sunrisers Hyderabad|          bat|       T20|Dubai Internation...|    Dubai|  male|J Madanagopal|   MA Gough|\n",
      "| 6608| 1254109|     1|    19.2|20.0| S Kaul|       B Kumar|       TG Southee|           1|     0|  108|      null|       null|      null|     null|Sunrisers Hyderabad|Kolkata Knight Ri...| normal|Kolkata Knight Ri...|wickets|         6|   Shubman Gill| Sunrisers Hyderabad|          bat|       T20|Dubai Internation...|    Dubai|  male|J Madanagopal|   MA Gough|\n",
      "| 6610| 1254109|     1|    19.4|20.0| S Kaul|       B Kumar|       TG Southee|           1|     0|  110|      null|       null|      null|     null|Sunrisers Hyderabad|Kolkata Knight Ri...| normal|Kolkata Knight Ri...|wickets|         6|   Shubman Gill| Sunrisers Hyderabad|          bat|       T20|Dubai Internation...|    Dubai|  male|J Madanagopal|   MA Gough|\n",
      "| 6612| 1254109|     1|    19.6|20.0| S Kaul|       B Kumar|       TG Southee|           4|     0|  115|      null|       null|      null|     null|Sunrisers Hyderabad|Kolkata Knight Ri...| normal|Kolkata Knight Ri...|wickets|         6|   Shubman Gill| Sunrisers Hyderabad|          bat|       T20|Dubai Internation...|    Dubai|  male|J Madanagopal|   MA Gough|\n",
      "|24974| 1178394|     2|    17.4|18.0| S Kaul|Sandeep Sharma|        AS Joseph|           0|     0|   96|      null|     caught|    S Kaul|Q de Kock|     Mumbai Indians| Sunrisers Hyderabad| normal|      Mumbai Indians|   runs|        40|      AS Joseph| Sunrisers Hyderabad|        field|       T20|Rajiv Gandhi Inte...|Hyderabad|  male|  AY Dandekar|Nitin Menon|\n",
      "|32741| 1136583|     1|    15.2|16.0| S Kaul|     YK Pathan|       M Markande|           0|     0|  106|      null|       null|      null|     null|Sunrisers Hyderabad|      Mumbai Indians| normal| Sunrisers Hyderabad|   runs|        31|    Rashid Khan|      Mumbai Indians|        field|       T20|    Wankhede Stadium|   Mumbai|  male|C Shamshuddin|     S Ravi|\n",
      "|32742| 1136583|     1|    15.3|16.0| S Kaul|     YK Pathan|       M Markande|           2|     0|  108|      null|       null|      null|     null|Sunrisers Hyderabad|      Mumbai Indians| normal| Sunrisers Hyderabad|   runs|        31|    Rashid Khan|      Mumbai Indians|        field|       T20|    Wankhede Stadium|   Mumbai|  male|C Shamshuddin|     S Ravi|\n",
      "|32743| 1136583|     1|    15.4|16.0| S Kaul|     YK Pathan|       M Markande|           0|     0|  108|      null|       null|      null|     null|Sunrisers Hyderabad|      Mumbai Indians| normal| Sunrisers Hyderabad|   runs|        31|    Rashid Khan|      Mumbai Indians|        field|       T20|    Wankhede Stadium|   Mumbai|  male|C Shamshuddin|     S Ravi|\n",
      "|32744| 1136583|     1|    15.5|16.0| S Kaul|     YK Pathan|       M Markande|           0|     0|  108|      null|       null|      null|     null|Sunrisers Hyderabad|      Mumbai Indians| normal| Sunrisers Hyderabad|   runs|        31|    Rashid Khan|      Mumbai Indians|        field|       T20|    Wankhede Stadium|   Mumbai|  male|C Shamshuddin|     S Ravi|\n",
      "|32745| 1136583|     1|    15.6|16.0| S Kaul|     YK Pathan|       M Markande|           0|     0|  108|      null|       null|      null|     null|Sunrisers Hyderabad|      Mumbai Indians| normal| Sunrisers Hyderabad|   runs|        31|    Rashid Khan|      Mumbai Indians|        field|       T20|    Wankhede Stadium|   Mumbai|  male|C Shamshuddin|     S Ravi|\n",
      "|32747| 1136583|     1|    16.2|17.0| S Kaul|     YK Pathan|Mustafizur Rahman|           0|     0|  109|      null|       null|      null|     null|Sunrisers Hyderabad|      Mumbai Indians| normal| Sunrisers Hyderabad|   runs|        31|    Rashid Khan|      Mumbai Indians|        field|       T20|    Wankhede Stadium|   Mumbai|  male|C Shamshuddin|     S Ravi|\n",
      "|32748| 1136583|     1|    16.3|17.0| S Kaul|     YK Pathan|Mustafizur Rahman|           0|     0|  109|      null|       null|      null|     null|Sunrisers Hyderabad|      Mumbai Indians| normal| Sunrisers Hyderabad|   runs|        31|    Rashid Khan|      Mumbai Indians|        field|       T20|    Wankhede Stadium|   Mumbai|  male|C Shamshuddin|     S Ravi|\n",
      "|32749| 1136583|     1|    16.4|17.0| S Kaul|     YK Pathan|Mustafizur Rahman|           0|     0|  109|      null|       null|      null|     null|Sunrisers Hyderabad|      Mumbai Indians| normal| Sunrisers Hyderabad|   runs|        31|    Rashid Khan|      Mumbai Indians|        field|       T20|    Wankhede Stadium|   Mumbai|  male|C Shamshuddin|     S Ravi|\n",
      "|32750| 1136583|     1|    16.5|17.0| S Kaul|     YK Pathan|Mustafizur Rahman|           0|     0|  109|      null|    run out|    S Kaul|     null|Sunrisers Hyderabad|      Mumbai Indians| normal| Sunrisers Hyderabad|   runs|        31|    Rashid Khan|      Mumbai Indians|        field|       T20|    Wankhede Stadium|   Mumbai|  male|C Shamshuddin|     S Ravi|\n",
      "|40735| 1136599|     1|    19.3|20.0| S Kaul|       B Kumar|       TG Southee|           1|     0|  145|      null|       null|      null|     null|Sunrisers Hyderabad|Royal Challengers...| normal| Sunrisers Hyderabad|   runs|         5|  KS Williamson|Royal Challengers...|        field|       T20|Rajiv Gandhi Inte...|Hyderabad|  male| BNJ Oxenford|  VK Sharma|\n",
      "|68789|  734011|     2|    18.2|19.0| S Kaul|     MK Tiwary|        KK Cooper|           1|     0|  121|      null|       null|      null|     null|   Rajasthan Royals|    Delhi Daredevils| normal|    Rajasthan Royals|   runs|        62|      AM Rahane|    Delhi Daredevils|        field|       T20|Sardar Patel Stad...|Ahmedabad|  male|       S Ravi|  RJ Tucker|\n",
      "|68795|  734011|     2|    19.2|20.0| S Kaul|     MK Tiwary|      DS Kulkarni|           1|     0|  128|      null|       null|      null|     null|   Rajasthan Royals|    Delhi Daredevils| normal|    Rajasthan Royals|   runs|        62|      AM Rahane|    Delhi Daredevils|        field|       T20|Sardar Patel Stad...|Ahmedabad|  male|       S Ravi|  RJ Tucker|\n",
      "|72078| 1136567|     2|    17.6|18.0| S Kaul|      DJ Hooda|        JJ Bumrah|           0|     0|  136|      null|       null|      null|     null|     Mumbai Indians| Sunrisers Hyderabad| normal| Sunrisers Hyderabad|wickets|         1|    Rashid Khan| Sunrisers Hyderabad|        field|       T20|Rajiv Gandhi Inte...|Hyderabad|  male|    CK Nandan|   NJ Llong|\n",
      "|72080| 1136567|     2|    18.2|19.0| S Kaul|      DJ Hooda|Mustafizur Rahman|           0|     0|  137|      null|       null|      null|     null|     Mumbai Indians| Sunrisers Hyderabad| normal| Sunrisers Hyderabad|wickets|         1|    Rashid Khan| Sunrisers Hyderabad|        field|       T20|Rajiv Gandhi Inte...|Hyderabad|  male|    CK Nandan|   NJ Llong|\n",
      "+-----+--------+------+--------+----+-------+--------------+-----------------+------------+------+-----+----------+-----------+----------+---------+-------------------+--------------------+-------+--------------------+-------+----------+---------------+--------------------+-------------+----------+--------------------+---------+------+-------------+-----------+\n",
      "only showing top 20 rows\n",
      "\n",
      "+--------+------------+\n",
      "|features|runs off bat|\n",
      "+--------+------------+\n",
      "|  [18.4]|           0|\n",
      "|  [18.5]|           1|\n",
      "|  [19.2]|           1|\n",
      "+--------+------------+\n",
      "only showing top 3 rows\n",
      "\n"
     ]
    }
   ],
   "source": [
    "bowler=input(\"Enter the bowler name: \")\n",
    "df3=df.filter(df.batsman == bowler)\n",
    "df3.show()\n",
    "from pyspark.sql.functions import col\n",
    "  \n",
    "main_col=df3.select(col(\"inning\"),col('over'),col('delivery'),col('runs off bat'),col('extras'),col('total'))\n",
    "from pyspark.ml.feature import VectorAssembler\n",
    "vectorAssembler = VectorAssembler(inputCols = ['delivery'], outputCol = 'features')\n",
    "vhouse_df = vectorAssembler.transform(main_col)\n",
    "vhouse_df = vhouse_df.select(['features', 'runs off bat'])\n",
    "vhouse_df.show(3)\n",
    "splits = vhouse_df.randomSplit([0.7, 0.3])\n",
    "train_df = splits[0]\n",
    "test_df = splits[1]"
   ]
  },
  {
   "cell_type": "markdown",
   "metadata": {},
   "source": [
    "Linear Regression"
   ]
  },
  {
   "cell_type": "code",
   "execution_count": 15,
   "metadata": {},
   "outputs": [
    {
     "name": "stdout",
     "output_type": "stream",
     "text": [
      "Coefficients: [0.1893079464237209]\n",
      "Intercept: -2.7950708501873414\n",
      "RMSE: 0.849195\n",
      "r2: 0.223749\n",
      "numIterations: 2\n",
      "objectiveHistory: [0.5, 0.4850190203160912, 0.45937348907875664]\n",
      "+--------------------+\n",
      "|           residuals|\n",
      "+--------------------+\n",
      "| 0.16035827885190024|\n",
      "|  3.0846351002824117|\n",
      "|-0.08240993545321595|\n",
      "|-0.12027152473796043|\n",
      "|-0.13920231938033245|\n",
      "|  -0.271717881876937|\n",
      "| -0.2906486765193095|\n",
      "|-0.30957947116168105|\n",
      "| -0.3285102658040535|\n",
      "| 0.14142748420952778|\n",
      "|  0.3496662252756213|\n",
      "| 0.16035827885190024|\n",
      "| -0.5367490068701466|\n",
      "| -0.6503337747243787|\n",
      "| -0.6881953640091227|\n",
      "| -0.7260569532938677|\n",
      "|  0.1224966895671562|\n",
      "| -0.5367490068701466|\n",
      "| -0.6503337747243787|\n",
      "| 0.33073543063324884|\n",
      "+--------------------+\n",
      "only showing top 20 rows\n",
      "\n"
     ]
    }
   ],
   "source": [
    "from pyspark.ml.regression import LinearRegression\n",
    "lr = LinearRegression(featuresCol = 'features', labelCol='runs off bat', maxIter=10, regParam=0.3, elasticNetParam=0.8)\n",
    "lr_model = lr.fit(train_df)\n",
    "print(\"Coefficients: \" + str(lr_model.coefficients))\n",
    "print(\"Intercept: \" + str(lr_model.intercept))\n",
    "trainingSummary = lr_model.summary\n",
    "print(\"RMSE: %f\" % trainingSummary.rootMeanSquaredError)\n",
    "print(\"r2: %f\" % trainingSummary.r2)\n",
    "print(\"numIterations: %d\" % trainingSummary.totalIterations)\n",
    "print(\"objectiveHistory: %s\" % str(trainingSummary.objectiveHistory))\n",
    "trainingSummary.residuals.show()"
   ]
  },
  {
   "cell_type": "markdown",
   "metadata": {},
   "source": [
    "K Means Clustering"
   ]
  },
  {
   "cell_type": "code",
   "execution_count": 16,
   "metadata": {},
   "outputs": [
    {
     "name": "stdout",
     "output_type": "stream",
     "text": [
      "Silhouette with squared euclidean distance = 0.8137728195066373\n",
      "Cluster Centers: \n",
      "[18.39166667]\n",
      "[15.4]\n",
      "[19.5]\n",
      "[16.35]\n",
      "[19.6]\n",
      "[17.53333333]\n",
      "[19.31428571]\n"
     ]
    }
   ],
   "source": [
    "from pyspark.ml.evaluation import ClusteringEvaluator\n",
    "from pyspark.ml.clustering import KMeans\n",
    "# Trains a k-means model.\n",
    "kmeans = KMeans().setK(7).setSeed(1)\n",
    "model = kmeans.fit(vhouse_df)\n",
    "# Make predictions\n",
    "predictions = model.transform(vhouse_df)\n",
    "# Evaluate clustering by computing Silhouette score\n",
    "evaluator = ClusteringEvaluator()\n",
    "silhouette = evaluator.evaluate(predictions)\n",
    "print(\"Silhouette with squared euclidean distance = \" + str(silhouette))\n",
    "print(\"Cluster Centers: \")\n",
    "ctr=[]\n",
    "centers = model.clusterCenters()\n",
    "for center in centers:\n",
    "    ctr.append(center)\n",
    "    print(center)"
   ]
  },
  {
   "cell_type": "markdown",
   "metadata": {},
   "source": [
    "Logistic Regression"
   ]
  },
  {
   "cell_type": "code",
   "execution_count": 17,
   "metadata": {},
   "outputs": [
    {
     "name": "stdout",
     "output_type": "stream",
     "text": [
      "+--------+------------+\n",
      "|features|runs off bat|\n",
      "+--------+------------+\n",
      "|  [18.4]|           0|\n",
      "|  [18.5]|           1|\n",
      "|  [19.2]|           1|\n",
      "|  [19.4]|           1|\n",
      "|  [19.6]|           4|\n",
      "|  [17.4]|           0|\n",
      "|  [15.2]|           0|\n",
      "|  [15.3]|           2|\n",
      "|  [15.4]|           0|\n",
      "|  [15.5]|           0|\n",
      "|  [15.6]|           0|\n",
      "|  [16.2]|           0|\n",
      "|  [16.3]|           0|\n",
      "|  [16.4]|           0|\n",
      "|  [16.5]|           0|\n",
      "|  [19.3]|           1|\n",
      "|  [18.2]|           1|\n",
      "|  [19.2]|           1|\n",
      "|  [17.6]|           0|\n",
      "|  [18.2]|           0|\n",
      "+--------+------------+\n",
      "only showing top 20 rows\n",
      "\n"
     ]
    },
    {
     "data": {
      "text/plain": [
       "LogisticRegression_8d7acebd84db"
      ]
     },
     "execution_count": 17,
     "metadata": {},
     "output_type": "execute_result"
    }
   ],
   "source": [
    "from pyspark.sql import Row\n",
    "from pyspark.ml.classification import LogisticRegression\n",
    "c = LogisticRegression(weightCol=\"runs off bat\")\n",
    "\n",
    "from pyspark.sql import Row\n",
    "from pyspark.ml.linalg import Vectors\n",
    "b = vhouse_df\n",
    "b.show()\n",
    "\n",
    "c.setRegParam(0.01)\n",
    "c.getRegParam()\n",
    "c.setMaxIter(10)\n",
    "c.getMaxIter()\n",
    "c.setFeaturesCol(\"features\")"
   ]
  },
  {
   "cell_type": "code",
   "execution_count": null,
   "metadata": {},
   "outputs": [],
   "source": []
  },
  {
   "cell_type": "code",
   "execution_count": null,
   "metadata": {},
   "outputs": [],
   "source": []
  }
 ],
 "metadata": {
  "interpreter": {
   "hash": "916dbcbb3f70747c44a77c7bcd40155683ae19c65e1c03b4aa3499c5328201f1"
  },
  "kernelspec": {
   "display_name": "Python 3",
   "language": "python",
   "name": "python3"
  },
  "language_info": {
   "codemirror_mode": {
    "name": "ipython",
    "version": 3
   },
   "file_extension": ".py",
   "mimetype": "text/x-python",
   "name": "python",
   "nbconvert_exporter": "python",
   "pygments_lexer": "ipython3",
   "version": "3.8.8"
  }
 },
 "nbformat": 4,
 "nbformat_minor": 2
}
